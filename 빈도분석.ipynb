{
  "cells": [
    {
      "cell_type": "markdown",
      "metadata": {
        "id": "view-in-github",
        "colab_type": "text"
      },
      "source": [
        "<a href=\"https://colab.research.google.com/github/p25-c4/plate_project/blob/main/%EB%B9%88%EB%8F%84%EB%B6%84%EC%84%9D.ipynb\" target=\"_parent\"><img src=\"https://colab.research.google.com/assets/colab-badge.svg\" alt=\"Open In Colab\"/></a>"
      ]
    },
    {
      "cell_type": "markdown",
      "id": "a98f6f94",
      "metadata": {
        "id": "a98f6f94"
      },
      "source": [
        "# 목표변수와 범주형 설명변수 관계 확인"
      ]
    },
    {
      "cell_type": "code",
      "execution_count": null,
      "id": "37739960",
      "metadata": {
        "id": "37739960"
      },
      "outputs": [],
      "source": [
        "import numpy as np\n",
        "import pandas as pd"
      ]
    },
    {
      "cell_type": "code",
      "execution_count": null,
      "id": "40b80c58",
      "metadata": {
        "id": "40b80c58",
        "outputId": "f6b2a098-66c9-4a4d-c244-36f6837d7434"
      },
      "outputs": [
        {
          "data": {
            "text/html": [
              "<div>\n",
              "<style scoped>\n",
              "    .dataframe tbody tr th:only-of-type {\n",
              "        vertical-align: middle;\n",
              "    }\n",
              "\n",
              "    .dataframe tbody tr th {\n",
              "        vertical-align: top;\n",
              "    }\n",
              "\n",
              "    .dataframe thead th {\n",
              "        text-align: right;\n",
              "    }\n",
              "</style>\n",
              "<table border=\"1\" class=\"dataframe\">\n",
              "  <thead>\n",
              "    <tr style=\"text-align: right;\">\n",
              "      <th></th>\n",
              "      <th>plate_no</th>\n",
              "      <th>rolling_date</th>\n",
              "      <th>scale</th>\n",
              "      <th>spec_long</th>\n",
              "      <th>spec_country</th>\n",
              "      <th>steel_kind</th>\n",
              "      <th>pt_thick</th>\n",
              "      <th>pt_width</th>\n",
              "      <th>pt_length</th>\n",
              "      <th>hsb</th>\n",
              "      <th>...</th>\n",
              "      <th>fur_heat_temp</th>\n",
              "      <th>fur_heat_time</th>\n",
              "      <th>fur_soak_temp</th>\n",
              "      <th>fur_soak_time</th>\n",
              "      <th>fur_total_time</th>\n",
              "      <th>fur_ex_temp</th>\n",
              "      <th>rolling_method</th>\n",
              "      <th>rolling_temp</th>\n",
              "      <th>descaling_count</th>\n",
              "      <th>work_group</th>\n",
              "    </tr>\n",
              "  </thead>\n",
              "  <tbody>\n",
              "    <tr>\n",
              "      <th>0</th>\n",
              "      <td>PLT_1001</td>\n",
              "      <td>03JAN2023:07:07:53</td>\n",
              "      <td>양품</td>\n",
              "      <td>AB/EH32-TM</td>\n",
              "      <td>미국</td>\n",
              "      <td>T</td>\n",
              "      <td>32</td>\n",
              "      <td>3700</td>\n",
              "      <td>15100</td>\n",
              "      <td>적용</td>\n",
              "      <td>...</td>\n",
              "      <td>1144</td>\n",
              "      <td>116</td>\n",
              "      <td>1133</td>\n",
              "      <td>59</td>\n",
              "      <td>259</td>\n",
              "      <td>1133</td>\n",
              "      <td>TMCP(온도제어)</td>\n",
              "      <td>934</td>\n",
              "      <td>8</td>\n",
              "      <td>1조</td>\n",
              "    </tr>\n",
              "    <tr>\n",
              "      <th>1</th>\n",
              "      <td>PLT_1002</td>\n",
              "      <td>03JAN2023:07:21:22</td>\n",
              "      <td>양품</td>\n",
              "      <td>AB/EH32-TM</td>\n",
              "      <td>미국</td>\n",
              "      <td>T</td>\n",
              "      <td>32</td>\n",
              "      <td>3700</td>\n",
              "      <td>15100</td>\n",
              "      <td>적용</td>\n",
              "      <td>...</td>\n",
              "      <td>1144</td>\n",
              "      <td>122</td>\n",
              "      <td>1135</td>\n",
              "      <td>53</td>\n",
              "      <td>238</td>\n",
              "      <td>1135</td>\n",
              "      <td>TMCP(온도제어)</td>\n",
              "      <td>937</td>\n",
              "      <td>8</td>\n",
              "      <td>1조</td>\n",
              "    </tr>\n",
              "    <tr>\n",
              "      <th>2</th>\n",
              "      <td>PLT_1003</td>\n",
              "      <td>03JAN2023:07:31:15</td>\n",
              "      <td>양품</td>\n",
              "      <td>NV-E36-TM</td>\n",
              "      <td>영국</td>\n",
              "      <td>T</td>\n",
              "      <td>33</td>\n",
              "      <td>3600</td>\n",
              "      <td>19200</td>\n",
              "      <td>적용</td>\n",
              "      <td>...</td>\n",
              "      <td>1129</td>\n",
              "      <td>116</td>\n",
              "      <td>1121</td>\n",
              "      <td>55</td>\n",
              "      <td>258</td>\n",
              "      <td>1121</td>\n",
              "      <td>TMCP(온도제어)</td>\n",
              "      <td>889</td>\n",
              "      <td>8</td>\n",
              "      <td>1조</td>\n",
              "    </tr>\n",
              "    <tr>\n",
              "      <th>3</th>\n",
              "      <td>PLT_1004</td>\n",
              "      <td>03JAN2023:07:41:01</td>\n",
              "      <td>양품</td>\n",
              "      <td>NV-E36-TM</td>\n",
              "      <td>영국</td>\n",
              "      <td>T</td>\n",
              "      <td>33</td>\n",
              "      <td>3600</td>\n",
              "      <td>19200</td>\n",
              "      <td>적용</td>\n",
              "      <td>...</td>\n",
              "      <td>1152</td>\n",
              "      <td>125</td>\n",
              "      <td>1127</td>\n",
              "      <td>68</td>\n",
              "      <td>266</td>\n",
              "      <td>1127</td>\n",
              "      <td>TMCP(온도제어)</td>\n",
              "      <td>885</td>\n",
              "      <td>8</td>\n",
              "      <td>1조</td>\n",
              "    </tr>\n",
              "    <tr>\n",
              "      <th>4</th>\n",
              "      <td>PLT_1005</td>\n",
              "      <td>03JAN2023:07:52:40</td>\n",
              "      <td>양품</td>\n",
              "      <td>BV-EH36-TM</td>\n",
              "      <td>프랑스</td>\n",
              "      <td>T</td>\n",
              "      <td>38</td>\n",
              "      <td>3100</td>\n",
              "      <td>13300</td>\n",
              "      <td>적용</td>\n",
              "      <td>...</td>\n",
              "      <td>1140</td>\n",
              "      <td>134</td>\n",
              "      <td>1128</td>\n",
              "      <td>48</td>\n",
              "      <td>246</td>\n",
              "      <td>1128</td>\n",
              "      <td>TMCP(온도제어)</td>\n",
              "      <td>873</td>\n",
              "      <td>8</td>\n",
              "      <td>1조</td>\n",
              "    </tr>\n",
              "  </tbody>\n",
              "</table>\n",
              "<p>5 rows × 22 columns</p>\n",
              "</div>"
            ],
            "text/plain": [
              "   plate_no        rolling_date scale   spec_long spec_country steel_kind  \\\n",
              "0  PLT_1001  03JAN2023:07:07:53    양품  AB/EH32-TM           미국          T   \n",
              "1  PLT_1002  03JAN2023:07:21:22    양품  AB/EH32-TM           미국          T   \n",
              "2  PLT_1003  03JAN2023:07:31:15    양품   NV-E36-TM           영국          T   \n",
              "3  PLT_1004  03JAN2023:07:41:01    양품   NV-E36-TM           영국          T   \n",
              "4  PLT_1005  03JAN2023:07:52:40    양품  BV-EH36-TM          프랑스          T   \n",
              "\n",
              "   pt_thick  pt_width  pt_length hsb  ... fur_heat_temp fur_heat_time  \\\n",
              "0        32      3700      15100  적용  ...          1144           116   \n",
              "1        32      3700      15100  적용  ...          1144           122   \n",
              "2        33      3600      19200  적용  ...          1129           116   \n",
              "3        33      3600      19200  적용  ...          1152           125   \n",
              "4        38      3100      13300  적용  ...          1140           134   \n",
              "\n",
              "   fur_soak_temp  fur_soak_time  fur_total_time  fur_ex_temp  rolling_method  \\\n",
              "0           1133             59             259         1133      TMCP(온도제어)   \n",
              "1           1135             53             238         1135      TMCP(온도제어)   \n",
              "2           1121             55             258         1121      TMCP(온도제어)   \n",
              "3           1127             68             266         1127      TMCP(온도제어)   \n",
              "4           1128             48             246         1128      TMCP(온도제어)   \n",
              "\n",
              "   rolling_temp descaling_count  work_group  \n",
              "0           934               8          1조  \n",
              "1           937               8          1조  \n",
              "2           889               8          1조  \n",
              "3           885               8          1조  \n",
              "4           873               8          1조  \n",
              "\n",
              "[5 rows x 22 columns]"
            ]
          },
          "execution_count": 6,
          "metadata": {},
          "output_type": "execute_result"
        }
      ],
      "source": [
        "df_raw = pd.read_csv('/home/piai/BigData/Plate_project/SCALE불량.csv', encoding='euc-kr')\n",
        "df_raw.head()"
      ]
    },
    {
      "cell_type": "code",
      "execution_count": null,
      "id": "25b3a071",
      "metadata": {
        "id": "25b3a071"
      },
      "outputs": [],
      "source": [
        "def fun_print_crosstab(data, var):\n",
        "    print(pd.crosstab(index=data['scale'], columns=data[var]))\n",
        "    print()\n",
        "    print(pd.crosstab(index=data['scale'], columns=data[var], normalize='columns').round(3))"
      ]
    },
    {
      "cell_type": "code",
      "execution_count": null,
      "id": "191d88e7",
      "metadata": {
        "id": "191d88e7",
        "outputId": "af608e38-0b85-44c0-f05d-23b72cbec8ad"
      },
      "outputs": [
        {
          "data": {
            "text/plain": [
              "Index(['plate_no', 'rolling_date', 'scale', 'spec_long', 'spec_country',\n",
              "       'steel_kind', 'pt_thick', 'pt_width', 'pt_length', 'hsb', 'fur_no',\n",
              "       'fur_input_row', 'fur_heat_temp', 'fur_heat_time', 'fur_soak_temp',\n",
              "       'fur_soak_time', 'fur_total_time', 'fur_ex_temp', 'rolling_method',\n",
              "       'rolling_temp', 'descaling_count', 'work_group'],\n",
              "      dtype='object')"
            ]
          },
          "execution_count": 8,
          "metadata": {},
          "output_type": "execute_result"
        }
      ],
      "source": [
        "df_raw.columns"
      ]
    },
    {
      "cell_type": "markdown",
      "id": "1d024e9b",
      "metadata": {
        "id": "1d024e9b"
      },
      "source": [
        "범주형 설명변수 : 'spec_long','spec_country','steel_kind','hsb', 'fur_no',\n",
        "       'fur_input_row','rolling_method','work_group'"
      ]
    },
    {
      "cell_type": "code",
      "execution_count": null,
      "id": "101a9478",
      "metadata": {
        "id": "101a9478",
        "outputId": "c4511d91-d7da-41b6-cc4f-4d0fd1c8aab1"
      },
      "outputs": [
        {
          "name": "stdout",
          "output_type": "stream",
          "text": [
            "spec_country  공통  독일   미국   영국  일본  프랑스  한국\n",
            "scale                                      \n",
            "불량             3  13   44   75  97   29  49\n",
            "양품            33  74  115  181  90  114  83\n",
            "\n",
            "spec_country     공통     독일     미국     영국     일본    프랑스     한국\n",
            "scale                                                        \n",
            "불량            0.083  0.149  0.277  0.293  0.519  0.203  0.371\n",
            "양품            0.917  0.851  0.723  0.707  0.481  0.797  0.629\n"
          ]
        }
      ],
      "source": [
        "fun_print_crosstab(df_raw, 'spec_country')"
      ]
    },
    {
      "cell_type": "markdown",
      "id": "5c363cc9",
      "metadata": {
        "id": "5c363cc9"
      },
      "source": [
        "규격 나라별로 불량률의 차이가 유의미하다.  \n",
        "규격의 길이, 두께, 폭의 차이가 불량률에 영향을 주는 것인지 의심해 볼 수 있다."
      ]
    },
    {
      "cell_type": "code",
      "execution_count": null,
      "id": "a098c660",
      "metadata": {
        "id": "a098c660",
        "outputId": "4b93d30f-a0e0-4632-d069-3a48682347db"
      },
      "outputs": [
        {
          "name": "stdout",
          "output_type": "stream",
          "text": [
            "steel_kind    C    T\n",
            "scale               \n",
            "불량          290   20\n",
            "양품          465  225\n",
            "\n",
            "steel_kind      C      T\n",
            "scale                   \n",
            "불량          0.384  0.082\n",
            "양품          0.616  0.918\n"
          ]
        }
      ],
      "source": [
        "fun_print_crosstab(df_raw, 'steel_kind')"
      ]
    },
    {
      "cell_type": "markdown",
      "id": "01b1f873",
      "metadata": {
        "id": "01b1f873"
      },
      "source": [
        "강종별로 불량률의 차이가 유의미하다.  \n",
        "강종은 불량 발생에 영향을 주는 것으로 보인다."
      ]
    },
    {
      "cell_type": "code",
      "execution_count": null,
      "id": "cf58e705",
      "metadata": {
        "id": "cf58e705",
        "outputId": "3dfd0b74-f304-4af5-9d1c-f39675dbf340"
      },
      "outputs": [
        {
          "name": "stdout",
          "output_type": "stream",
          "text": [
            "hsb    미적용   적용\n",
            "scale          \n",
            "불량      47  263\n",
            "양품       0  690\n",
            "\n",
            "hsb    미적용     적용\n",
            "scale            \n",
            "불량     1.0  0.276\n",
            "양품     0.0  0.724\n"
          ]
        }
      ],
      "source": [
        "fun_print_crosstab(df_raw, 'hsb')"
      ]
    },
    {
      "cell_type": "markdown",
      "id": "89482736",
      "metadata": {
        "id": "89482736"
      },
      "source": [
        "hsb 미적용 후판은 모두 불량.  \n",
        "hsb는 후판 불량에 무조건 영향을 준다고 가정하고 hsb를 설명변수에서 제거하고 분석 진행."
      ]
    },
    {
      "cell_type": "code",
      "execution_count": null,
      "id": "aecd481d",
      "metadata": {
        "id": "aecd481d",
        "outputId": "010f91f6-9882-4199-83e0-3b21f4417dc4"
      },
      "outputs": [
        {
          "name": "stdout",
          "output_type": "stream",
          "text": [
            "fur_no  1호기  2호기  3호기\n",
            "scale                \n",
            "불량      101   92  117\n",
            "양품      232  233  225\n",
            "\n",
            "fur_no    1호기    2호기    3호기\n",
            "scale                      \n",
            "불량      0.303  0.283  0.342\n",
            "양품      0.697  0.717  0.658\n"
          ]
        }
      ],
      "source": [
        "fun_print_crosstab(df_raw, 'fur_no')"
      ]
    },
    {
      "cell_type": "markdown",
      "id": "5e638d27",
      "metadata": {
        "id": "5e638d27"
      },
      "source": [
        "호기별로 불량률의 차이가 커보이지는 않지만 정확한 판단을 위해 검정이 필요하다.  \n",
        "카이제곱?"
      ]
    },
    {
      "cell_type": "code",
      "execution_count": null,
      "id": "3c244c63",
      "metadata": {
        "id": "3c244c63",
        "outputId": "71c8797d-bc8e-4e1f-e4b4-b19cbf9fed9a"
      },
      "outputs": [
        {
          "name": "stdout",
          "output_type": "stream",
          "text": [
            "fur_input_row   1열   2열\n",
            "scale                  \n",
            "불량             165  145\n",
            "양품             343  347\n",
            "\n",
            "fur_input_row     1열     2열\n",
            "scale                      \n",
            "불량             0.325  0.295\n",
            "양품             0.675  0.705\n"
          ]
        }
      ],
      "source": [
        "fun_print_crosstab(df_raw, 'fur_input_row')"
      ]
    },
    {
      "cell_type": "markdown",
      "id": "f5c7ef9b",
      "metadata": {
        "id": "f5c7ef9b"
      },
      "source": [
        "장입열별로 불량률의 차이가 커보이지 않지만, 정확한 판단을 위해 검정이 필요하다."
      ]
    },
    {
      "cell_type": "code",
      "execution_count": null,
      "id": "8889fbf3",
      "metadata": {
        "id": "8889fbf3",
        "outputId": "296ed9ad-4647-4d5b-e92a-59195dbe887b"
      },
      "outputs": [
        {
          "name": "stdout",
          "output_type": "stream",
          "text": [
            "rolling_method  CR(제어압연)  TMCP(온도제어)\n",
            "scale                               \n",
            "불량                   297          13\n",
            "양품                   543         147\n",
            "\n",
            "rolling_method  CR(제어압연)  TMCP(온도제어)\n",
            "scale                               \n",
            "불량                 0.354       0.081\n",
            "양품                 0.646       0.919\n"
          ]
        }
      ],
      "source": [
        "fun_print_crosstab(df_raw, 'rolling_method')"
      ]
    },
    {
      "cell_type": "markdown",
      "id": "a06d9032",
      "metadata": {
        "id": "a06d9032"
      },
      "source": [
        "제어압연의 불량률이 유의미하게 높다.  \n",
        "압연방법은 불량 발생에 영향을 주는 것으로 보인다."
      ]
    },
    {
      "cell_type": "code",
      "execution_count": null,
      "id": "52c7a524",
      "metadata": {
        "id": "52c7a524",
        "outputId": "9ee3c52a-7e28-48a4-bf03-49936db0b499"
      },
      "outputs": [
        {
          "name": "stdout",
          "output_type": "stream",
          "text": [
            "work_group   1조   2조   3조   4조\n",
            "scale                         \n",
            "불량          109   85   66   50\n",
            "양품          171  207  152  160\n",
            "\n",
            "work_group     1조     2조     3조     4조\n",
            "scale                                 \n",
            "불량          0.389  0.291  0.303  0.238\n",
            "양품          0.611  0.709  0.697  0.762\n"
          ]
        }
      ],
      "source": [
        "fun_print_crosstab(df_raw, 'work_group')"
      ]
    },
    {
      "cell_type": "markdown",
      "id": "565bf7b6",
      "metadata": {
        "id": "565bf7b6"
      },
      "source": [
        "1조와 4조 사이의 불량률에 유의미한 차이가 있어보인다.  \n",
        "정확한 판단을 위해 검정 필요"
      ]
    },
    {
      "cell_type": "code",
      "execution_count": null,
      "id": "ce4ab4e4",
      "metadata": {
        "id": "ce4ab4e4",
        "outputId": "61f53842-2d95-4d23-9f35-8fe1c18b491f"
      },
      "outputs": [
        {
          "name": "stdout",
          "output_type": "stream",
          "text": [
            "descaling_count  5    6   7    8   9    10\n",
            "scale                                     \n",
            "불량                6   28  20  122  31  103\n",
            "양품                0  178   0  127   0  385\n",
            "\n",
            "descaling_count   5      6    7     8    9      10\n",
            "scale                                             \n",
            "불량               1.0  0.136  1.0  0.49  1.0  0.211\n",
            "양품               0.0  0.864  0.0  0.51  0.0  0.789\n"
          ]
        }
      ],
      "source": [
        "fun_print_crosstab(df_raw, 'descaling_count')  #이산형"
      ]
    },
    {
      "cell_type": "markdown",
      "id": "8e4a4c91",
      "metadata": {
        "id": "8e4a4c91"
      },
      "source": [
        "압연 descaling 횟수가 5,7,9회 일 때의 후판이 전부 불량이다.  \n",
        "횟수가 홀수인 것이 공정 중 어떤 의미를 가지는지 알아볼 필요가 있다."
      ]
    },
    {
      "cell_type": "code",
      "execution_count": null,
      "id": "32f3d51b",
      "metadata": {
        "id": "32f3d51b"
      },
      "outputs": [],
      "source": []
    }
  ],
  "metadata": {
    "kernelspec": {
      "display_name": "Python 3 (ipykernel)",
      "language": "python",
      "name": "python3"
    },
    "language_info": {
      "codemirror_mode": {
        "name": "ipython",
        "version": 3
      },
      "file_extension": ".py",
      "mimetype": "text/x-python",
      "name": "python",
      "nbconvert_exporter": "python",
      "pygments_lexer": "ipython3",
      "version": "3.10.9"
    },
    "colab": {
      "provenance": [],
      "include_colab_link": true
    }
  },
  "nbformat": 4,
  "nbformat_minor": 5
}