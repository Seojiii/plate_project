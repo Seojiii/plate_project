{
  "cells": [
    {
      "cell_type": "markdown",
      "metadata": {
        "id": "view-in-github",
        "colab_type": "text"
      },
      "source": [
        "<a href=\"https://colab.research.google.com/github/p25-c4/plate_project/blob/main/%EB%B9%88%EB%8F%84%EB%B6%84%EC%84%9D.ipynb\" target=\"_parent\"><img src=\"https://colab.research.google.com/assets/colab-badge.svg\" alt=\"Open In Colab\"/></a>"
      ]
    },
    {
      "cell_type": "markdown",
      "id": "a98f6f94",
      "metadata": {
        "id": "a98f6f94"
      },
      "source": [
        "# 목표변수와 범주형 설명변수 관계 확인"
      ]
    },
    {
      "cell_type": "code",
      "execution_count": 1,
      "id": "37739960",
      "metadata": {
        "id": "37739960"
      },
      "outputs": [],
      "source": [
        "import numpy as np\n",
        "import pandas as pd\n",
        "from scipy.stats import chi2_contingency"
      ]
    },
    {
      "cell_type": "code",
      "source": [
        "from google.colab import drive\n",
        "drive.mount('/content/drive')"
      ],
      "metadata": {
        "id": "N_w5jN3_OdjP",
        "outputId": "d649dded-7ea1-4aef-fcb5-69f26525e74b",
        "colab": {
          "base_uri": "https://localhost:8080/"
        }
      },
      "id": "N_w5jN3_OdjP",
      "execution_count": 2,
      "outputs": [
        {
          "output_type": "stream",
          "name": "stdout",
          "text": [
            "Mounted at /content/drive\n"
          ]
        }
      ]
    },
    {
      "cell_type": "code",
      "execution_count": 4,
      "id": "40b80c58",
      "metadata": {
        "id": "40b80c58",
        "outputId": "1cb02bbd-f3a4-4ece-c0e6-0fc1bb604f74",
        "colab": {
          "base_uri": "https://localhost:8080/",
          "height": 342
        }
      },
      "outputs": [
        {
          "output_type": "execute_result",
          "data": {
            "text/plain": [
              "   plate_no        rolling_date scale   spec_long spec_country steel_kind  \\\n",
              "0  PLT_1001  03JAN2023:07:07:53    양품  AB/EH32-TM           미국          T   \n",
              "1  PLT_1002  03JAN2023:07:21:22    양품  AB/EH32-TM           미국          T   \n",
              "2  PLT_1003  03JAN2023:07:31:15    양품   NV-E36-TM           영국          T   \n",
              "3  PLT_1004  03JAN2023:07:41:01    양품   NV-E36-TM           영국          T   \n",
              "4  PLT_1005  03JAN2023:07:52:40    양품  BV-EH36-TM          프랑스          T   \n",
              "\n",
              "   pt_thick  pt_width  pt_length hsb  ... fur_heat_temp fur_heat_time  \\\n",
              "0        32      3700      15100  적용  ...          1144           116   \n",
              "1        32      3700      15100  적용  ...          1144           122   \n",
              "2        33      3600      19200  적용  ...          1129           116   \n",
              "3        33      3600      19200  적용  ...          1152           125   \n",
              "4        38      3100      13300  적용  ...          1140           134   \n",
              "\n",
              "   fur_soak_temp  fur_soak_time  fur_total_time  fur_ex_temp  rolling_method  \\\n",
              "0           1133             59             259         1133      TMCP(온도제어)   \n",
              "1           1135             53             238         1135      TMCP(온도제어)   \n",
              "2           1121             55             258         1121      TMCP(온도제어)   \n",
              "3           1127             68             266         1127      TMCP(온도제어)   \n",
              "4           1128             48             246         1128      TMCP(온도제어)   \n",
              "\n",
              "   rolling_temp descaling_count  work_group  \n",
              "0           934               8          1조  \n",
              "1           937               8          1조  \n",
              "2           889               8          1조  \n",
              "3           885               8          1조  \n",
              "4           873               8          1조  \n",
              "\n",
              "[5 rows x 22 columns]"
            ],
            "text/html": [
              "\n",
              "  <div id=\"df-752ff1b4-77b3-4128-9670-e1e9a3f53289\" class=\"colab-df-container\">\n",
              "    <div>\n",
              "<style scoped>\n",
              "    .dataframe tbody tr th:only-of-type {\n",
              "        vertical-align: middle;\n",
              "    }\n",
              "\n",
              "    .dataframe tbody tr th {\n",
              "        vertical-align: top;\n",
              "    }\n",
              "\n",
              "    .dataframe thead th {\n",
              "        text-align: right;\n",
              "    }\n",
              "</style>\n",
              "<table border=\"1\" class=\"dataframe\">\n",
              "  <thead>\n",
              "    <tr style=\"text-align: right;\">\n",
              "      <th></th>\n",
              "      <th>plate_no</th>\n",
              "      <th>rolling_date</th>\n",
              "      <th>scale</th>\n",
              "      <th>spec_long</th>\n",
              "      <th>spec_country</th>\n",
              "      <th>steel_kind</th>\n",
              "      <th>pt_thick</th>\n",
              "      <th>pt_width</th>\n",
              "      <th>pt_length</th>\n",
              "      <th>hsb</th>\n",
              "      <th>...</th>\n",
              "      <th>fur_heat_temp</th>\n",
              "      <th>fur_heat_time</th>\n",
              "      <th>fur_soak_temp</th>\n",
              "      <th>fur_soak_time</th>\n",
              "      <th>fur_total_time</th>\n",
              "      <th>fur_ex_temp</th>\n",
              "      <th>rolling_method</th>\n",
              "      <th>rolling_temp</th>\n",
              "      <th>descaling_count</th>\n",
              "      <th>work_group</th>\n",
              "    </tr>\n",
              "  </thead>\n",
              "  <tbody>\n",
              "    <tr>\n",
              "      <th>0</th>\n",
              "      <td>PLT_1001</td>\n",
              "      <td>03JAN2023:07:07:53</td>\n",
              "      <td>양품</td>\n",
              "      <td>AB/EH32-TM</td>\n",
              "      <td>미국</td>\n",
              "      <td>T</td>\n",
              "      <td>32</td>\n",
              "      <td>3700</td>\n",
              "      <td>15100</td>\n",
              "      <td>적용</td>\n",
              "      <td>...</td>\n",
              "      <td>1144</td>\n",
              "      <td>116</td>\n",
              "      <td>1133</td>\n",
              "      <td>59</td>\n",
              "      <td>259</td>\n",
              "      <td>1133</td>\n",
              "      <td>TMCP(온도제어)</td>\n",
              "      <td>934</td>\n",
              "      <td>8</td>\n",
              "      <td>1조</td>\n",
              "    </tr>\n",
              "    <tr>\n",
              "      <th>1</th>\n",
              "      <td>PLT_1002</td>\n",
              "      <td>03JAN2023:07:21:22</td>\n",
              "      <td>양품</td>\n",
              "      <td>AB/EH32-TM</td>\n",
              "      <td>미국</td>\n",
              "      <td>T</td>\n",
              "      <td>32</td>\n",
              "      <td>3700</td>\n",
              "      <td>15100</td>\n",
              "      <td>적용</td>\n",
              "      <td>...</td>\n",
              "      <td>1144</td>\n",
              "      <td>122</td>\n",
              "      <td>1135</td>\n",
              "      <td>53</td>\n",
              "      <td>238</td>\n",
              "      <td>1135</td>\n",
              "      <td>TMCP(온도제어)</td>\n",
              "      <td>937</td>\n",
              "      <td>8</td>\n",
              "      <td>1조</td>\n",
              "    </tr>\n",
              "    <tr>\n",
              "      <th>2</th>\n",
              "      <td>PLT_1003</td>\n",
              "      <td>03JAN2023:07:31:15</td>\n",
              "      <td>양품</td>\n",
              "      <td>NV-E36-TM</td>\n",
              "      <td>영국</td>\n",
              "      <td>T</td>\n",
              "      <td>33</td>\n",
              "      <td>3600</td>\n",
              "      <td>19200</td>\n",
              "      <td>적용</td>\n",
              "      <td>...</td>\n",
              "      <td>1129</td>\n",
              "      <td>116</td>\n",
              "      <td>1121</td>\n",
              "      <td>55</td>\n",
              "      <td>258</td>\n",
              "      <td>1121</td>\n",
              "      <td>TMCP(온도제어)</td>\n",
              "      <td>889</td>\n",
              "      <td>8</td>\n",
              "      <td>1조</td>\n",
              "    </tr>\n",
              "    <tr>\n",
              "      <th>3</th>\n",
              "      <td>PLT_1004</td>\n",
              "      <td>03JAN2023:07:41:01</td>\n",
              "      <td>양품</td>\n",
              "      <td>NV-E36-TM</td>\n",
              "      <td>영국</td>\n",
              "      <td>T</td>\n",
              "      <td>33</td>\n",
              "      <td>3600</td>\n",
              "      <td>19200</td>\n",
              "      <td>적용</td>\n",
              "      <td>...</td>\n",
              "      <td>1152</td>\n",
              "      <td>125</td>\n",
              "      <td>1127</td>\n",
              "      <td>68</td>\n",
              "      <td>266</td>\n",
              "      <td>1127</td>\n",
              "      <td>TMCP(온도제어)</td>\n",
              "      <td>885</td>\n",
              "      <td>8</td>\n",
              "      <td>1조</td>\n",
              "    </tr>\n",
              "    <tr>\n",
              "      <th>4</th>\n",
              "      <td>PLT_1005</td>\n",
              "      <td>03JAN2023:07:52:40</td>\n",
              "      <td>양품</td>\n",
              "      <td>BV-EH36-TM</td>\n",
              "      <td>프랑스</td>\n",
              "      <td>T</td>\n",
              "      <td>38</td>\n",
              "      <td>3100</td>\n",
              "      <td>13300</td>\n",
              "      <td>적용</td>\n",
              "      <td>...</td>\n",
              "      <td>1140</td>\n",
              "      <td>134</td>\n",
              "      <td>1128</td>\n",
              "      <td>48</td>\n",
              "      <td>246</td>\n",
              "      <td>1128</td>\n",
              "      <td>TMCP(온도제어)</td>\n",
              "      <td>873</td>\n",
              "      <td>8</td>\n",
              "      <td>1조</td>\n",
              "    </tr>\n",
              "  </tbody>\n",
              "</table>\n",
              "<p>5 rows × 22 columns</p>\n",
              "</div>\n",
              "    <div class=\"colab-df-buttons\">\n",
              "\n",
              "  <div class=\"colab-df-container\">\n",
              "    <button class=\"colab-df-convert\" onclick=\"convertToInteractive('df-752ff1b4-77b3-4128-9670-e1e9a3f53289')\"\n",
              "            title=\"Convert this dataframe to an interactive table.\"\n",
              "            style=\"display:none;\">\n",
              "\n",
              "  <svg xmlns=\"http://www.w3.org/2000/svg\" height=\"24px\" viewBox=\"0 -960 960 960\">\n",
              "    <path d=\"M120-120v-720h720v720H120Zm60-500h600v-160H180v160Zm220 220h160v-160H400v160Zm0 220h160v-160H400v160ZM180-400h160v-160H180v160Zm440 0h160v-160H620v160ZM180-180h160v-160H180v160Zm440 0h160v-160H620v160Z\"/>\n",
              "  </svg>\n",
              "    </button>\n",
              "\n",
              "  <style>\n",
              "    .colab-df-container {\n",
              "      display:flex;\n",
              "      gap: 12px;\n",
              "    }\n",
              "\n",
              "    .colab-df-convert {\n",
              "      background-color: #E8F0FE;\n",
              "      border: none;\n",
              "      border-radius: 50%;\n",
              "      cursor: pointer;\n",
              "      display: none;\n",
              "      fill: #1967D2;\n",
              "      height: 32px;\n",
              "      padding: 0 0 0 0;\n",
              "      width: 32px;\n",
              "    }\n",
              "\n",
              "    .colab-df-convert:hover {\n",
              "      background-color: #E2EBFA;\n",
              "      box-shadow: 0px 1px 2px rgba(60, 64, 67, 0.3), 0px 1px 3px 1px rgba(60, 64, 67, 0.15);\n",
              "      fill: #174EA6;\n",
              "    }\n",
              "\n",
              "    .colab-df-buttons div {\n",
              "      margin-bottom: 4px;\n",
              "    }\n",
              "\n",
              "    [theme=dark] .colab-df-convert {\n",
              "      background-color: #3B4455;\n",
              "      fill: #D2E3FC;\n",
              "    }\n",
              "\n",
              "    [theme=dark] .colab-df-convert:hover {\n",
              "      background-color: #434B5C;\n",
              "      box-shadow: 0px 1px 3px 1px rgba(0, 0, 0, 0.15);\n",
              "      filter: drop-shadow(0px 1px 2px rgba(0, 0, 0, 0.3));\n",
              "      fill: #FFFFFF;\n",
              "    }\n",
              "  </style>\n",
              "\n",
              "    <script>\n",
              "      const buttonEl =\n",
              "        document.querySelector('#df-752ff1b4-77b3-4128-9670-e1e9a3f53289 button.colab-df-convert');\n",
              "      buttonEl.style.display =\n",
              "        google.colab.kernel.accessAllowed ? 'block' : 'none';\n",
              "\n",
              "      async function convertToInteractive(key) {\n",
              "        const element = document.querySelector('#df-752ff1b4-77b3-4128-9670-e1e9a3f53289');\n",
              "        const dataTable =\n",
              "          await google.colab.kernel.invokeFunction('convertToInteractive',\n",
              "                                                    [key], {});\n",
              "        if (!dataTable) return;\n",
              "\n",
              "        const docLinkHtml = 'Like what you see? Visit the ' +\n",
              "          '<a target=\"_blank\" href=https://colab.research.google.com/notebooks/data_table.ipynb>data table notebook</a>'\n",
              "          + ' to learn more about interactive tables.';\n",
              "        element.innerHTML = '';\n",
              "        dataTable['output_type'] = 'display_data';\n",
              "        await google.colab.output.renderOutput(dataTable, element);\n",
              "        const docLink = document.createElement('div');\n",
              "        docLink.innerHTML = docLinkHtml;\n",
              "        element.appendChild(docLink);\n",
              "      }\n",
              "    </script>\n",
              "  </div>\n",
              "\n",
              "\n",
              "<div id=\"df-f5eeb9a3-e24c-4be1-b414-4faa40771502\">\n",
              "  <button class=\"colab-df-quickchart\" onclick=\"quickchart('df-f5eeb9a3-e24c-4be1-b414-4faa40771502')\"\n",
              "            title=\"Suggest charts\"\n",
              "            style=\"display:none;\">\n",
              "\n",
              "<svg xmlns=\"http://www.w3.org/2000/svg\" height=\"24px\"viewBox=\"0 0 24 24\"\n",
              "     width=\"24px\">\n",
              "    <g>\n",
              "        <path d=\"M19 3H5c-1.1 0-2 .9-2 2v14c0 1.1.9 2 2 2h14c1.1 0 2-.9 2-2V5c0-1.1-.9-2-2-2zM9 17H7v-7h2v7zm4 0h-2V7h2v10zm4 0h-2v-4h2v4z\"/>\n",
              "    </g>\n",
              "</svg>\n",
              "  </button>\n",
              "\n",
              "<style>\n",
              "  .colab-df-quickchart {\n",
              "      --bg-color: #E8F0FE;\n",
              "      --fill-color: #1967D2;\n",
              "      --hover-bg-color: #E2EBFA;\n",
              "      --hover-fill-color: #174EA6;\n",
              "      --disabled-fill-color: #AAA;\n",
              "      --disabled-bg-color: #DDD;\n",
              "  }\n",
              "\n",
              "  [theme=dark] .colab-df-quickchart {\n",
              "      --bg-color: #3B4455;\n",
              "      --fill-color: #D2E3FC;\n",
              "      --hover-bg-color: #434B5C;\n",
              "      --hover-fill-color: #FFFFFF;\n",
              "      --disabled-bg-color: #3B4455;\n",
              "      --disabled-fill-color: #666;\n",
              "  }\n",
              "\n",
              "  .colab-df-quickchart {\n",
              "    background-color: var(--bg-color);\n",
              "    border: none;\n",
              "    border-radius: 50%;\n",
              "    cursor: pointer;\n",
              "    display: none;\n",
              "    fill: var(--fill-color);\n",
              "    height: 32px;\n",
              "    padding: 0;\n",
              "    width: 32px;\n",
              "  }\n",
              "\n",
              "  .colab-df-quickchart:hover {\n",
              "    background-color: var(--hover-bg-color);\n",
              "    box-shadow: 0 1px 2px rgba(60, 64, 67, 0.3), 0 1px 3px 1px rgba(60, 64, 67, 0.15);\n",
              "    fill: var(--button-hover-fill-color);\n",
              "  }\n",
              "\n",
              "  .colab-df-quickchart-complete:disabled,\n",
              "  .colab-df-quickchart-complete:disabled:hover {\n",
              "    background-color: var(--disabled-bg-color);\n",
              "    fill: var(--disabled-fill-color);\n",
              "    box-shadow: none;\n",
              "  }\n",
              "\n",
              "  .colab-df-spinner {\n",
              "    border: 2px solid var(--fill-color);\n",
              "    border-color: transparent;\n",
              "    border-bottom-color: var(--fill-color);\n",
              "    animation:\n",
              "      spin 1s steps(1) infinite;\n",
              "  }\n",
              "\n",
              "  @keyframes spin {\n",
              "    0% {\n",
              "      border-color: transparent;\n",
              "      border-bottom-color: var(--fill-color);\n",
              "      border-left-color: var(--fill-color);\n",
              "    }\n",
              "    20% {\n",
              "      border-color: transparent;\n",
              "      border-left-color: var(--fill-color);\n",
              "      border-top-color: var(--fill-color);\n",
              "    }\n",
              "    30% {\n",
              "      border-color: transparent;\n",
              "      border-left-color: var(--fill-color);\n",
              "      border-top-color: var(--fill-color);\n",
              "      border-right-color: var(--fill-color);\n",
              "    }\n",
              "    40% {\n",
              "      border-color: transparent;\n",
              "      border-right-color: var(--fill-color);\n",
              "      border-top-color: var(--fill-color);\n",
              "    }\n",
              "    60% {\n",
              "      border-color: transparent;\n",
              "      border-right-color: var(--fill-color);\n",
              "    }\n",
              "    80% {\n",
              "      border-color: transparent;\n",
              "      border-right-color: var(--fill-color);\n",
              "      border-bottom-color: var(--fill-color);\n",
              "    }\n",
              "    90% {\n",
              "      border-color: transparent;\n",
              "      border-bottom-color: var(--fill-color);\n",
              "    }\n",
              "  }\n",
              "</style>\n",
              "\n",
              "  <script>\n",
              "    async function quickchart(key) {\n",
              "      const quickchartButtonEl =\n",
              "        document.querySelector('#' + key + ' button');\n",
              "      quickchartButtonEl.disabled = true;  // To prevent multiple clicks.\n",
              "      quickchartButtonEl.classList.add('colab-df-spinner');\n",
              "      try {\n",
              "        const charts = await google.colab.kernel.invokeFunction(\n",
              "            'suggestCharts', [key], {});\n",
              "      } catch (error) {\n",
              "        console.error('Error during call to suggestCharts:', error);\n",
              "      }\n",
              "      quickchartButtonEl.classList.remove('colab-df-spinner');\n",
              "      quickchartButtonEl.classList.add('colab-df-quickchart-complete');\n",
              "    }\n",
              "    (() => {\n",
              "      let quickchartButtonEl =\n",
              "        document.querySelector('#df-f5eeb9a3-e24c-4be1-b414-4faa40771502 button');\n",
              "      quickchartButtonEl.style.display =\n",
              "        google.colab.kernel.accessAllowed ? 'block' : 'none';\n",
              "    })();\n",
              "  </script>\n",
              "</div>\n",
              "\n",
              "    </div>\n",
              "  </div>\n"
            ],
            "application/vnd.google.colaboratory.intrinsic+json": {
              "type": "dataframe",
              "variable_name": "df_raw"
            }
          },
          "metadata": {},
          "execution_count": 4
        }
      ],
      "source": [
        "df_raw = pd.read_csv('/content/drive/MyDrive/BigData/SCALE불량.csv', encoding='euc-kr')\n",
        "df_raw.head()"
      ]
    },
    {
      "cell_type": "code",
      "execution_count": 5,
      "id": "25b3a071",
      "metadata": {
        "id": "25b3a071"
      },
      "outputs": [],
      "source": [
        "def fun_print_crosstab(data, var):\n",
        "    print(pd.crosstab(index=data['scale'], columns=data[var]))\n",
        "    print()\n",
        "    print(pd.crosstab(index=data['scale'], columns=data[var], normalize='columns').round(3))"
      ]
    },
    {
      "cell_type": "code",
      "execution_count": 6,
      "id": "191d88e7",
      "metadata": {
        "id": "191d88e7",
        "outputId": "c462fc66-523e-4282-d8bd-1bab92f60897",
        "colab": {
          "base_uri": "https://localhost:8080/"
        }
      },
      "outputs": [
        {
          "output_type": "execute_result",
          "data": {
            "text/plain": [
              "Index(['plate_no', 'rolling_date', 'scale', 'spec_long', 'spec_country',\n",
              "       'steel_kind', 'pt_thick', 'pt_width', 'pt_length', 'hsb', 'fur_no',\n",
              "       'fur_input_row', 'fur_heat_temp', 'fur_heat_time', 'fur_soak_temp',\n",
              "       'fur_soak_time', 'fur_total_time', 'fur_ex_temp', 'rolling_method',\n",
              "       'rolling_temp', 'descaling_count', 'work_group'],\n",
              "      dtype='object')"
            ]
          },
          "metadata": {},
          "execution_count": 6
        }
      ],
      "source": [
        "df_raw.columns"
      ]
    },
    {
      "cell_type": "markdown",
      "id": "1d024e9b",
      "metadata": {
        "id": "1d024e9b"
      },
      "source": [
        "범주형 설명변수 : 'spec_long','spec_country','steel_kind','hsb', 'fur_no',\n",
        "       'fur_input_row','rolling_method','work_group'"
      ]
    },
    {
      "cell_type": "code",
      "execution_count": 7,
      "id": "101a9478",
      "metadata": {
        "id": "101a9478",
        "outputId": "673e5899-c15d-447f-fdb7-b831b6ca67e7",
        "colab": {
          "base_uri": "https://localhost:8080/"
        }
      },
      "outputs": [
        {
          "output_type": "stream",
          "name": "stdout",
          "text": [
            "spec_country  공통  독일   미국   영국  일본  프랑스  한국\n",
            "scale                                      \n",
            "불량             3  13   44   75  97   29  49\n",
            "양품            33  74  115  181  90  114  83\n",
            "\n",
            "spec_country     공통     독일     미국     영국     일본    프랑스     한국\n",
            "scale                                                        \n",
            "불량            0.083  0.149  0.277  0.293  0.519  0.203  0.371\n",
            "양품            0.917  0.851  0.723  0.707  0.481  0.797  0.629\n"
          ]
        }
      ],
      "source": [
        "fun_print_crosstab(df_raw, 'spec_country')"
      ]
    },
    {
      "cell_type": "markdown",
      "id": "5c363cc9",
      "metadata": {
        "id": "5c363cc9"
      },
      "source": [
        "규격 나라별로 불량률의 차이가 유의미하다.  \n",
        "규격의 길이, 두께, 폭의 차이가 불량률에 영향을 주는 것인지 의심해 볼 수 있다."
      ]
    },
    {
      "cell_type": "code",
      "execution_count": 8,
      "id": "a098c660",
      "metadata": {
        "id": "a098c660",
        "outputId": "d7909220-cd5b-4133-9de8-31cf3c501a35",
        "colab": {
          "base_uri": "https://localhost:8080/"
        }
      },
      "outputs": [
        {
          "output_type": "stream",
          "name": "stdout",
          "text": [
            "steel_kind    C    T\n",
            "scale               \n",
            "불량          290   20\n",
            "양품          465  225\n",
            "\n",
            "steel_kind      C      T\n",
            "scale                   \n",
            "불량          0.384  0.082\n",
            "양품          0.616  0.918\n"
          ]
        }
      ],
      "source": [
        "fun_print_crosstab(df_raw, 'steel_kind')"
      ]
    },
    {
      "cell_type": "markdown",
      "id": "01b1f873",
      "metadata": {
        "id": "01b1f873"
      },
      "source": [
        "강종별로 불량률의 차이가 유의미하다.  \n",
        "강종은 불량 발생에 영향을 주는 것으로 보인다."
      ]
    },
    {
      "cell_type": "code",
      "execution_count": 9,
      "id": "cf58e705",
      "metadata": {
        "id": "cf58e705",
        "outputId": "afaadfcf-4139-4775-8b8b-d6915d3b276e",
        "colab": {
          "base_uri": "https://localhost:8080/"
        }
      },
      "outputs": [
        {
          "output_type": "stream",
          "name": "stdout",
          "text": [
            "hsb    미적용   적용\n",
            "scale          \n",
            "불량      47  263\n",
            "양품       0  690\n",
            "\n",
            "hsb    미적용     적용\n",
            "scale            \n",
            "불량     1.0  0.276\n",
            "양품     0.0  0.724\n"
          ]
        }
      ],
      "source": [
        "fun_print_crosstab(df_raw, 'hsb')"
      ]
    },
    {
      "cell_type": "markdown",
      "id": "89482736",
      "metadata": {
        "id": "89482736"
      },
      "source": [
        "hsb 미적용 후판은 모두 불량.  \n",
        "hsb는 후판 불량에 무조건 영향을 준다고 가정하고 hsb를 설명변수에서 제거하고 분석 진행."
      ]
    },
    {
      "cell_type": "code",
      "execution_count": 10,
      "id": "aecd481d",
      "metadata": {
        "id": "aecd481d",
        "outputId": "89db780a-fd14-4779-8156-aaa4b5d6787f",
        "colab": {
          "base_uri": "https://localhost:8080/"
        }
      },
      "outputs": [
        {
          "output_type": "stream",
          "name": "stdout",
          "text": [
            "fur_no  1호기  2호기  3호기\n",
            "scale                \n",
            "불량      101   92  117\n",
            "양품      232  233  225\n",
            "\n",
            "fur_no    1호기    2호기    3호기\n",
            "scale                      \n",
            "불량      0.303  0.283  0.342\n",
            "양품      0.697  0.717  0.658\n"
          ]
        }
      ],
      "source": [
        "fun_print_crosstab(df_raw, 'fur_no')"
      ]
    },
    {
      "cell_type": "markdown",
      "id": "5e638d27",
      "metadata": {
        "id": "5e638d27"
      },
      "source": [
        "호기별로 불량률의 차이가 커보이지는 않지만 정확한 판단을 위해 검정이 필요하다.  \n",
        "카이제곱?"
      ]
    },
    {
      "cell_type": "code",
      "source": [
        "# 관측된 데이터\n",
        "observed_data = [[101, 92, 117],\n",
        "                 [232, 233, 225]]\n",
        "\n",
        "# 카이제곱 검정 수행\n",
        "chi2_stat, p_val, dof, expected_data = chi2_contingency(observed_data)\n",
        "\n",
        "# 결과 출력\n",
        "print(\"카이제곱 통계량:\", chi2_stat)\n",
        "print(\"p-value:\", p_val)\n",
        "print(\"자유도:\", dof)\n",
        "print(\"기대값:\")\n",
        "print(expected_data)"
      ],
      "metadata": {
        "id": "-BKr8FWpPQew",
        "outputId": "a5bbad48-6335-452a-a070-3e99d48cdd0b",
        "colab": {
          "base_uri": "https://localhost:8080/"
        }
      },
      "id": "-BKr8FWpPQew",
      "execution_count": 13,
      "outputs": [
        {
          "output_type": "stream",
          "name": "stdout",
          "text": [
            "카이제곱 통계량: 2.819197504367653\n",
            "p-value: 0.2442412647687759\n",
            "자유도: 2\n",
            "기대값:\n",
            "[[103.23 100.75 106.02]\n",
            " [229.77 224.25 235.98]]\n"
          ]
        }
      ]
    },
    {
      "cell_type": "markdown",
      "source": [
        "차이가 없다?????????"
      ],
      "metadata": {
        "id": "U2Vz8wARPgEy"
      },
      "id": "U2Vz8wARPgEy"
    },
    {
      "cell_type": "code",
      "source": [],
      "metadata": {
        "id": "SHrU5mfKO2Z3"
      },
      "id": "SHrU5mfKO2Z3",
      "execution_count": null,
      "outputs": []
    },
    {
      "cell_type": "code",
      "execution_count": null,
      "id": "3c244c63",
      "metadata": {
        "id": "3c244c63",
        "outputId": "71c8797d-bc8e-4e1f-e4b4-b19cbf9fed9a"
      },
      "outputs": [
        {
          "name": "stdout",
          "output_type": "stream",
          "text": [
            "fur_input_row   1열   2열\n",
            "scale                  \n",
            "불량             165  145\n",
            "양품             343  347\n",
            "\n",
            "fur_input_row     1열     2열\n",
            "scale                      \n",
            "불량             0.325  0.295\n",
            "양품             0.675  0.705\n"
          ]
        }
      ],
      "source": [
        "fun_print_crosstab(df_raw, 'fur_input_row')"
      ]
    },
    {
      "cell_type": "markdown",
      "id": "f5c7ef9b",
      "metadata": {
        "id": "f5c7ef9b"
      },
      "source": [
        "장입열별로 불량률의 차이가 커보이지 않지만, 정확한 판단을 위해 검정이 필요하다."
      ]
    },
    {
      "cell_type": "code",
      "execution_count": null,
      "id": "8889fbf3",
      "metadata": {
        "id": "8889fbf3",
        "outputId": "296ed9ad-4647-4d5b-e92a-59195dbe887b"
      },
      "outputs": [
        {
          "name": "stdout",
          "output_type": "stream",
          "text": [
            "rolling_method  CR(제어압연)  TMCP(온도제어)\n",
            "scale                               \n",
            "불량                   297          13\n",
            "양품                   543         147\n",
            "\n",
            "rolling_method  CR(제어압연)  TMCP(온도제어)\n",
            "scale                               \n",
            "불량                 0.354       0.081\n",
            "양품                 0.646       0.919\n"
          ]
        }
      ],
      "source": [
        "fun_print_crosstab(df_raw, 'rolling_method')"
      ]
    },
    {
      "cell_type": "markdown",
      "id": "a06d9032",
      "metadata": {
        "id": "a06d9032"
      },
      "source": [
        "제어압연의 불량률이 유의미하게 높다.  \n",
        "압연방법은 불량 발생에 영향을 주는 것으로 보인다."
      ]
    },
    {
      "cell_type": "code",
      "execution_count": null,
      "id": "52c7a524",
      "metadata": {
        "id": "52c7a524",
        "outputId": "9ee3c52a-7e28-48a4-bf03-49936db0b499"
      },
      "outputs": [
        {
          "name": "stdout",
          "output_type": "stream",
          "text": [
            "work_group   1조   2조   3조   4조\n",
            "scale                         \n",
            "불량          109   85   66   50\n",
            "양품          171  207  152  160\n",
            "\n",
            "work_group     1조     2조     3조     4조\n",
            "scale                                 \n",
            "불량          0.389  0.291  0.303  0.238\n",
            "양품          0.611  0.709  0.697  0.762\n"
          ]
        }
      ],
      "source": [
        "fun_print_crosstab(df_raw, 'work_group')"
      ]
    },
    {
      "cell_type": "markdown",
      "id": "565bf7b6",
      "metadata": {
        "id": "565bf7b6"
      },
      "source": [
        "1조와 4조 사이의 불량률에 유의미한 차이가 있어보인다.  \n",
        "정확한 판단을 위해 검정 필요"
      ]
    },
    {
      "cell_type": "code",
      "source": [
        "# 관측된 데이터\n",
        "observed_data = [[109, 85, 66, 50],\n",
        "                 [171, 207, 152, 160]]\n",
        "\n",
        "# 카이제곱 검정 수행\n",
        "chi2_stat, p_val, dof, expected_data = chi2_contingency(observed_data)\n",
        "\n",
        "# 결과 출력\n",
        "print(\"카이제곱 통계량:\", chi2_stat)\n",
        "print(\"p-value:\", p_val)\n",
        "print(\"자유도:\", dof)\n",
        "print(\"기대값:\")\n",
        "print(expected_data)"
      ],
      "metadata": {
        "id": "7tNeL_sBP4WB",
        "outputId": "e2d0b6c1-e634-4892-ea1e-8c857f64e991",
        "colab": {
          "base_uri": "https://localhost:8080/"
        }
      },
      "id": "7tNeL_sBP4WB",
      "execution_count": 12,
      "outputs": [
        {
          "output_type": "stream",
          "name": "stdout",
          "text": [
            "카이제곱 통계량: 13.84622170632565\n",
            "p-value: 0.0031221225267359233\n",
            "자유도: 3\n",
            "기대값:\n",
            "[[ 86.8   90.52  67.58  65.1 ]\n",
            " [193.2  201.48 150.42 144.9 ]]\n"
          ]
        }
      ]
    },
    {
      "cell_type": "markdown",
      "source": [
        "차이가 있다. work_group은 불량 발생에 영향을 주는 것 같다.  "
      ],
      "metadata": {
        "id": "g_CcB9AiP5m5"
      },
      "id": "g_CcB9AiP5m5"
    },
    {
      "cell_type": "code",
      "execution_count": null,
      "id": "ce4ab4e4",
      "metadata": {
        "id": "ce4ab4e4",
        "outputId": "61f53842-2d95-4d23-9f35-8fe1c18b491f"
      },
      "outputs": [
        {
          "name": "stdout",
          "output_type": "stream",
          "text": [
            "descaling_count  5    6   7    8   9    10\n",
            "scale                                     \n",
            "불량                6   28  20  122  31  103\n",
            "양품                0  178   0  127   0  385\n",
            "\n",
            "descaling_count   5      6    7     8    9      10\n",
            "scale                                             \n",
            "불량               1.0  0.136  1.0  0.49  1.0  0.211\n",
            "양품               0.0  0.864  0.0  0.51  0.0  0.789\n"
          ]
        }
      ],
      "source": [
        "fun_print_crosstab(df_raw, 'descaling_count')  #이산형"
      ]
    },
    {
      "cell_type": "markdown",
      "id": "8e4a4c91",
      "metadata": {
        "id": "8e4a4c91"
      },
      "source": [
        "압연 descaling 횟수가 5,7,9회 일 때의 후판이 전부 불량이다.  \n",
        "횟수가 홀수인 것이 공정 중 어떤 의미를 가지는지 알아볼 필요가 있다."
      ]
    },
    {
      "cell_type": "code",
      "execution_count": null,
      "id": "32f3d51b",
      "metadata": {
        "id": "32f3d51b"
      },
      "outputs": [],
      "source": []
    }
  ],
  "metadata": {
    "kernelspec": {
      "display_name": "Python 3 (ipykernel)",
      "language": "python",
      "name": "python3"
    },
    "language_info": {
      "codemirror_mode": {
        "name": "ipython",
        "version": 3
      },
      "file_extension": ".py",
      "mimetype": "text/x-python",
      "name": "python",
      "nbconvert_exporter": "python",
      "pygments_lexer": "ipython3",
      "version": "3.10.9"
    },
    "colab": {
      "provenance": [],
      "include_colab_link": true
    }
  },
  "nbformat": 4,
  "nbformat_minor": 5
}
